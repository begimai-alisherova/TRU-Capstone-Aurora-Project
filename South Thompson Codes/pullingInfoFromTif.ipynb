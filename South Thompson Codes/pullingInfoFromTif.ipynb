{
 "cells": [
  {
   "cell_type": "markdown",
   "id": "b9802e2f",
   "metadata": {},
   "source": [
    "This script processes large geospatial TIFF files to extract valid pixel values along with their geographic coordinates. Using rasterio, it reads TIFF data in memory-efficient chunks, replaces nodata values with NaN, and writes the latitude, longitude, and pixel values for non-NaN pixels to a CSV file. Designed for large datasets, it ensures efficient processing and outputs a CSV with valid geospatial data."
   ]
  },
  {
   "cell_type": "code",
   "execution_count": 1,
   "id": "d6d7f3fb-05f2-4661-a09c-29f7ace8744e",
   "metadata": {},
   "outputs": [],
   "source": [
    "import rasterio\n",
    "import numpy as np\n",
    "import matplotlib.pyplot as plt\n",
    "import imagecodecs\n",
    "import csv\n",
    "from rasterio.plot import show\n",
    "from tifffile import imread\n",
    "from rasterio.windows import Window\n",
    "from io import BytesIO\n",
    "import os"
   ]
  },
  {
   "cell_type": "code",
   "execution_count": 16,
   "id": "ee1eada9-ae91-4dc2-8501-719808bb4b68",
   "metadata": {},
   "outputs": [],
   "source": [
    "file_paths = [\n",
    "    r\"C:\\Users\\nolan\\Downloads\\MS_NDVI.tif\"\n",
    "    # Add all 24 file paths here\n",
    "]"
   ]
  },
  {
   "cell_type": "code",
   "execution_count": 17,
   "id": "f2ccc700-2817-4b3e-882e-79105bf66245",
   "metadata": {},
   "outputs": [
    {
     "name": "stdout",
     "output_type": "stream",
     "text": [
      "TIFF file 'MS_NDVI' read successfully with rasterio!\n",
      "\n",
      "Image dimensions: 6700x29850\n",
      "\n",
      "'Nodata' value in file 'MS_NDVI': nan\n",
      "\n",
      "Data and coordinates have been saved to 'MS_NDVI.csv'.\n",
      "Total number of non-NaN pixels processed and stored for file 'MS_NDVI': 97667406\n"
     ]
    }
   ],
   "source": [
    "# Define a chunk size\n",
    "chunk_size = 1000  # Adjust based on your system's memory\n",
    "\n",
    "# Loop over each file in the list\n",
    "for file_path in file_paths:\n",
    "    # Initialize a counter for valid (non-NaN) pixels\n",
    "    valid_pixel_count = 0\n",
    "\n",
    "    # Check if the file exists before processing\n",
    "    if not os.path.exists(file_path):\n",
    "        print(f\"File not found: {file_path}\")\n",
    "        continue  # Skip to the next file if not found\n",
    "\n",
    "    # Extract the file name without extension to use for the CSV file and column name\n",
    "    base_filename = os.path.splitext(os.path.basename(file_path))[0]\n",
    "    csv_filename = f'{base_filename}.csv'\n",
    "\n",
    "    # Open and read the TIFF file with rasterio using windows\n",
    "    try:\n",
    "        with rasterio.open(file_path) as dataset:\n",
    "            print(f\"TIFF file '{base_filename}' read successfully with rasterio!\\n\")\n",
    "            \n",
    "            # Get the total size of the image\n",
    "            height, width = dataset.height, dataset.width\n",
    "            print(f\"Image dimensions: {height}x{width}\\n\")\n",
    "            \n",
    "            # Get the transform to map pixel coordinates to geographic coordinates\n",
    "            transform = dataset.transform\n",
    "            \n",
    "            # Check for nodata value in the dataset\n",
    "            nodata_value = dataset.nodata\n",
    "            if nodata_value is None:\n",
    "                print(f\"No 'nodata' value found in file '{base_filename}'.\")\n",
    "            else:\n",
    "                print(f\"'Nodata' value in file '{base_filename}': {nodata_value}\")\n",
    "            \n",
    "            # Open a CSV file to write the output for this file\n",
    "            with open(csv_filename, mode='w', newline='') as csv_file:\n",
    "                csv_writer = csv.writer(csv_file)\n",
    "                \n",
    "                # Write the header (Latitude, Longitude, and File Name as the column header for pixel values)\n",
    "                csv_writer.writerow(['Latitude', 'Longitude', base_filename])\n",
    "                \n",
    "                # Loop over the image in chunks (windows)\n",
    "                for i in range(0, height, chunk_size):\n",
    "                    for j in range(0, width, chunk_size):\n",
    "                        # Define a window to read a chunk of the image\n",
    "                        window = Window(j, i, min(chunk_size, width - j), min(chunk_size, height - i))\n",
    "                        \n",
    "                        # Read the chunk\n",
    "                        image_chunk = dataset.read(1, window=window)\n",
    "\n",
    "                        # Replace 'nodata' values with np.nan\n",
    "                        if nodata_value is not None:\n",
    "                            image_chunk = np.where(image_chunk == nodata_value, np.nan, image_chunk)\n",
    "\n",
    "                        # Create a mask for valid (non-NaN) pixels\n",
    "                        valid_mask = ~np.isnan(image_chunk)\n",
    "\n",
    "                        # If there are no valid pixels in this chunk, skip the rest of the loop\n",
    "                        if not np.any(valid_mask):\n",
    "                            continue\n",
    "                        \n",
    "                        # Get the row and column indices of the valid pixels\n",
    "                        rows, cols = np.where(valid_mask)\n",
    "                        \n",
    "                        # Convert the pixel coordinates to geographic coordinates\n",
    "                        coords = [rasterio.transform.xy(transform, row + i, col + j) for row, col in zip(rows, cols)]\n",
    "                        \n",
    "                        # Extract the actual pixel values for valid pixels\n",
    "                        pixel_values = image_chunk[valid_mask]\n",
    "                        \n",
    "                        # Write each valid coordinate and pixel value to the CSV file\n",
    "                        for coord, pixel_value in zip(coords, pixel_values):\n",
    "                            lat, lon = coord\n",
    "                            csv_writer.writerow([lat, lon, pixel_value])\n",
    "                            \n",
    "                            # Increment the valid pixel counter\n",
    "                            valid_pixel_count += 1\n",
    "\n",
    "            print(f\"\\nData and coordinates have been saved to '{csv_filename}'.\")\n",
    "            print(f\"Total number of non-NaN pixels processed and stored for file '{base_filename}': {valid_pixel_count}\")\n",
    "\n",
    "    except Exception as e:\n",
    "        print(f\"Error reading TIFF file {file_path} with rasterio: {e}\")"
   ]
  }
 ],
 "metadata": {
  "kernelspec": {
   "display_name": "Python 3 (ipykernel)",
   "language": "python",
   "name": "python3"
  },
  "language_info": {
   "codemirror_mode": {
    "name": "ipython",
    "version": 3
   },
   "file_extension": ".py",
   "mimetype": "text/x-python",
   "name": "python",
   "nbconvert_exporter": "python",
   "pygments_lexer": "ipython3",
   "version": "3.9.12"
  }
 },
 "nbformat": 4,
 "nbformat_minor": 5
}
