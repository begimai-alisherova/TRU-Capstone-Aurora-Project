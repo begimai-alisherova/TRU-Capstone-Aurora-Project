{
 "cells": [
  {
   "cell_type": "markdown",
   "id": "6187b11c",
   "metadata": {},
   "source": [
    "This script processes large geospatial datasets to handle missing values by replacing them with the average of up to 8 nearest valid pixels using a breadth-first search (BFS) approach. It supports chunk-based processing for memory efficiency and removes rows where no valid neighbors are found within a search distance of 10 units. Outputs include a cleaned CSV file and a count of filled missing values."
   ]
  },
  {
   "cell_type": "code",
   "execution_count": 1,
   "id": "66fc11f8",
   "metadata": {},
   "outputs": [],
   "source": [
    "import pandas as pd\n",
    "from collections import deque\n",
    "import numpy as np"
   ]
  },
  {
   "cell_type": "code",
   "execution_count": 2,
   "id": "d641a5c6",
   "metadata": {},
   "outputs": [],
   "source": [
    "# Define chunk size for windowing\n",
    "chunk_size = 1000  # Adjust based on memory\n",
    "\n",
    "# Define function to calculate average from neighbors\n",
    "def calculate_average_from_neighbors(df, feature, missing_lat, missing_lon):\n",
    "    visited = set()\n",
    "    queue = deque([(missing_lat, missing_lon, 0)])  # Start with distance 0\n",
    "    neighbors = []\n",
    "    max_distance = 10  # Set a maximum search distance to avoid infinite loops\n",
    "\n",
    "    while queue and len(neighbors) < 8:  # Stop once we have 8 neighbors or exhaust the queue\n",
    "        lat, lon, dist = queue.popleft()\n",
    "        if (lat, lon) in visited:\n",
    "            continue\n",
    "        visited.add((lat, lon))\n",
    "\n",
    "        # Check if current pixel has a valid value\n",
    "        value = df[(df['Latitude'] == lat) & (df['Longitude'] == lon)][feature]\n",
    "        if not value.empty and pd.notna(value.values[0]):\n",
    "            neighbors.append(value.values[0])  # Add valid pixel value to neighbors\n",
    "\n",
    "        # Add neighbors to the queue\n",
    "        for d_lat, d_lon in [(-0.5, 0), (0.5, 0), (0, -0.5), (0, 0.5)]:\n",
    "            queue.append((lat + d_lat, lon + d_lon, dist + 1))\n",
    "\n",
    "        # Break if we reach max distance\n",
    "        if dist > max_distance:\n",
    "            break\n",
    "\n",
    "    # Return the average of collected neighbors if any, else NaN\n",
    "    if neighbors:\n",
    "        return np.mean(neighbors)\n",
    "    return np.nan\n",
    "\n",
    "# Function to replace missing values with averages or mark for deletion\n",
    "def replace_missing_values_with_average_or_delete(df, feature_columns):\n",
    "    to_remove_indices = []\n",
    "    total_missing_values_filled = 0\n",
    "\n",
    "    for feature in feature_columns:\n",
    "        for index, row in df[df[feature].isna()].iterrows():\n",
    "            lat, lon = row['Latitude'], row['Longitude']\n",
    "            average_value = calculate_average_from_neighbors(df, feature, lat, lon)\n",
    "\n",
    "            if pd.notna(average_value):  # Replace if an average is calculated\n",
    "                df.at[index, feature] = average_value\n",
    "                total_missing_values_filled += 1\n",
    "            else:\n",
    "                to_remove_indices.append(index)  # Mark for removal if no neighbors found\n",
    "\n",
    "    # Remove rows marked for deletion\n",
    "    df.drop(index=to_remove_indices, inplace=True)\n",
    "\n",
    "    return df, total_missing_values_filled"
   ]
  },
  {
   "cell_type": "code",
   "execution_count": 4,
   "id": "8ddd2a60",
   "metadata": {},
   "outputs": [
    {
     "ename": "KeyboardInterrupt",
     "evalue": "",
     "output_type": "error",
     "traceback": [
      "\u001b[1;31m---------------------------------------------------------------------------\u001b[0m",
      "\u001b[1;31mKeyboardInterrupt\u001b[0m                         Traceback (most recent call last)",
      "Input \u001b[1;32mIn [4]\u001b[0m, in \u001b[0;36m<cell line: 5>\u001b[1;34m()\u001b[0m\n\u001b[0;32m     11\u001b[0m feature_columns \u001b[38;5;241m=\u001b[39m [col \u001b[38;5;28;01mfor\u001b[39;00m col \u001b[38;5;129;01min\u001b[39;00m chunk\u001b[38;5;241m.\u001b[39mcolumns \u001b[38;5;28;01mif\u001b[39;00m col \u001b[38;5;129;01mnot\u001b[39;00m \u001b[38;5;129;01min\u001b[39;00m [\u001b[38;5;124m'\u001b[39m\u001b[38;5;124mLatitude\u001b[39m\u001b[38;5;124m'\u001b[39m, \u001b[38;5;124m'\u001b[39m\u001b[38;5;124mLongitude\u001b[39m\u001b[38;5;124m'\u001b[39m]]\n\u001b[0;32m     13\u001b[0m \u001b[38;5;66;03m# Replace missing values with averages in this chunk\u001b[39;00m\n\u001b[1;32m---> 14\u001b[0m processed_chunk, missing_filled, summary \u001b[38;5;241m=\u001b[39m \u001b[43mreplace_missing_values_with_average\u001b[49m\u001b[43m(\u001b[49m\u001b[43mchunk\u001b[49m\u001b[43m,\u001b[49m\u001b[43m \u001b[49m\u001b[43mfeature_columns\u001b[49m\u001b[43m)\u001b[49m\n\u001b[0;32m     16\u001b[0m \u001b[38;5;66;03m# Update overall counts\u001b[39;00m\n\u001b[0;32m     17\u001b[0m total_missing_values_filled \u001b[38;5;241m+\u001b[39m\u001b[38;5;241m=\u001b[39m missing_filled\n",
      "Input \u001b[1;32mIn [3]\u001b[0m, in \u001b[0;36mreplace_missing_values_with_average\u001b[1;34m(df, feature_columns)\u001b[0m\n\u001b[0;32m      7\u001b[0m \u001b[38;5;28;01mfor\u001b[39;00m index, row \u001b[38;5;129;01min\u001b[39;00m df[df[feature]\u001b[38;5;241m.\u001b[39misna()]\u001b[38;5;241m.\u001b[39miterrows():\n\u001b[0;32m      8\u001b[0m     lat, lon \u001b[38;5;241m=\u001b[39m row[\u001b[38;5;124m'\u001b[39m\u001b[38;5;124mLatitude\u001b[39m\u001b[38;5;124m'\u001b[39m], row[\u001b[38;5;124m'\u001b[39m\u001b[38;5;124mLongitude\u001b[39m\u001b[38;5;124m'\u001b[39m]\n\u001b[1;32m----> 9\u001b[0m     average_value \u001b[38;5;241m=\u001b[39m \u001b[43mcalculate_average_from_neighbors\u001b[49m\u001b[43m(\u001b[49m\u001b[43mdf\u001b[49m\u001b[43m,\u001b[49m\u001b[43m \u001b[49m\u001b[43mfeature\u001b[49m\u001b[43m,\u001b[49m\u001b[43m \u001b[49m\u001b[43mlat\u001b[49m\u001b[43m,\u001b[49m\u001b[43m \u001b[49m\u001b[43mlon\u001b[49m\u001b[43m)\u001b[49m\n\u001b[0;32m     11\u001b[0m     \u001b[38;5;28;01mif\u001b[39;00m pd\u001b[38;5;241m.\u001b[39mnotna(average_value):  \u001b[38;5;66;03m# Replace if an average is calculated\u001b[39;00m\n\u001b[0;32m     12\u001b[0m         df\u001b[38;5;241m.\u001b[39mat[index, feature] \u001b[38;5;241m=\u001b[39m average_value\n",
      "Input \u001b[1;32mIn [2]\u001b[0m, in \u001b[0;36mcalculate_average_from_neighbors\u001b[1;34m(df, feature, missing_lat, missing_lon)\u001b[0m\n\u001b[0;32m     15\u001b[0m visited\u001b[38;5;241m.\u001b[39madd((lat, lon))\n\u001b[0;32m     17\u001b[0m \u001b[38;5;66;03m# Check if current pixel has a valid value\u001b[39;00m\n\u001b[1;32m---> 18\u001b[0m value \u001b[38;5;241m=\u001b[39m df[\u001b[43m(\u001b[49m\u001b[43mdf\u001b[49m\u001b[43m[\u001b[49m\u001b[38;5;124;43m'\u001b[39;49m\u001b[38;5;124;43mLatitude\u001b[39;49m\u001b[38;5;124;43m'\u001b[39;49m\u001b[43m]\u001b[49m\u001b[43m \u001b[49m\u001b[38;5;241;43m==\u001b[39;49m\u001b[43m \u001b[49m\u001b[43mlat\u001b[49m\u001b[43m)\u001b[49m\u001b[43m \u001b[49m\u001b[38;5;241;43m&\u001b[39;49m\u001b[43m \u001b[49m\u001b[43m(\u001b[49m\u001b[43mdf\u001b[49m\u001b[43m[\u001b[49m\u001b[38;5;124;43m'\u001b[39;49m\u001b[38;5;124;43mLongitude\u001b[39;49m\u001b[38;5;124;43m'\u001b[39;49m\u001b[43m]\u001b[49m\u001b[43m \u001b[49m\u001b[38;5;241;43m==\u001b[39;49m\u001b[43m \u001b[49m\u001b[43mlon\u001b[49m\u001b[43m)\u001b[49m][feature]\n\u001b[0;32m     19\u001b[0m \u001b[38;5;28;01mif\u001b[39;00m \u001b[38;5;129;01mnot\u001b[39;00m value\u001b[38;5;241m.\u001b[39mempty \u001b[38;5;129;01mand\u001b[39;00m pd\u001b[38;5;241m.\u001b[39mnotna(value\u001b[38;5;241m.\u001b[39mvalues[\u001b[38;5;241m0\u001b[39m]):\n\u001b[0;32m     20\u001b[0m     neighbors\u001b[38;5;241m.\u001b[39mappend(value\u001b[38;5;241m.\u001b[39mvalues[\u001b[38;5;241m0\u001b[39m])  \u001b[38;5;66;03m# Add valid pixel value to neighbors\u001b[39;00m\n",
      "File \u001b[1;32mC:\\ProgramData\\Anaconda3\\lib\\site-packages\\pandas\\core\\ops\\common.py:70\u001b[0m, in \u001b[0;36m_unpack_zerodim_and_defer.<locals>.new_method\u001b[1;34m(self, other)\u001b[0m\n\u001b[0;32m     66\u001b[0m             \u001b[38;5;28;01mreturn\u001b[39;00m \u001b[38;5;28mNotImplemented\u001b[39m\n\u001b[0;32m     68\u001b[0m other \u001b[38;5;241m=\u001b[39m item_from_zerodim(other)\n\u001b[1;32m---> 70\u001b[0m \u001b[38;5;28;01mreturn\u001b[39;00m \u001b[43mmethod\u001b[49m\u001b[43m(\u001b[49m\u001b[38;5;28;43mself\u001b[39;49m\u001b[43m,\u001b[49m\u001b[43m \u001b[49m\u001b[43mother\u001b[49m\u001b[43m)\u001b[49m\n",
      "File \u001b[1;32mC:\\ProgramData\\Anaconda3\\lib\\site-packages\\pandas\\core\\arraylike.py:70\u001b[0m, in \u001b[0;36mOpsMixin.__and__\u001b[1;34m(self, other)\u001b[0m\n\u001b[0;32m     68\u001b[0m \u001b[38;5;129m@unpack_zerodim_and_defer\u001b[39m(\u001b[38;5;124m\"\u001b[39m\u001b[38;5;124m__and__\u001b[39m\u001b[38;5;124m\"\u001b[39m)\n\u001b[0;32m     69\u001b[0m \u001b[38;5;28;01mdef\u001b[39;00m \u001b[38;5;21m__and__\u001b[39m(\u001b[38;5;28mself\u001b[39m, other):\n\u001b[1;32m---> 70\u001b[0m     \u001b[38;5;28;01mreturn\u001b[39;00m \u001b[38;5;28;43mself\u001b[39;49m\u001b[38;5;241;43m.\u001b[39;49m\u001b[43m_logical_method\u001b[49m\u001b[43m(\u001b[49m\u001b[43mother\u001b[49m\u001b[43m,\u001b[49m\u001b[43m \u001b[49m\u001b[43moperator\u001b[49m\u001b[38;5;241;43m.\u001b[39;49m\u001b[43mand_\u001b[49m\u001b[43m)\u001b[49m\n",
      "File \u001b[1;32mC:\\ProgramData\\Anaconda3\\lib\\site-packages\\pandas\\core\\series.py:5634\u001b[0m, in \u001b[0;36mSeries._logical_method\u001b[1;34m(self, other, op)\u001b[0m\n\u001b[0;32m   5631\u001b[0m lvalues \u001b[38;5;241m=\u001b[39m \u001b[38;5;28mself\u001b[39m\u001b[38;5;241m.\u001b[39m_values\n\u001b[0;32m   5632\u001b[0m rvalues \u001b[38;5;241m=\u001b[39m extract_array(other, extract_numpy\u001b[38;5;241m=\u001b[39m\u001b[38;5;28;01mTrue\u001b[39;00m, extract_range\u001b[38;5;241m=\u001b[39m\u001b[38;5;28;01mTrue\u001b[39;00m)\n\u001b[1;32m-> 5634\u001b[0m res_values \u001b[38;5;241m=\u001b[39m \u001b[43mops\u001b[49m\u001b[38;5;241;43m.\u001b[39;49m\u001b[43mlogical_op\u001b[49m\u001b[43m(\u001b[49m\u001b[43mlvalues\u001b[49m\u001b[43m,\u001b[49m\u001b[43m \u001b[49m\u001b[43mrvalues\u001b[49m\u001b[43m,\u001b[49m\u001b[43m \u001b[49m\u001b[43mop\u001b[49m\u001b[43m)\u001b[49m\n\u001b[0;32m   5635\u001b[0m \u001b[38;5;28;01mreturn\u001b[39;00m \u001b[38;5;28mself\u001b[39m\u001b[38;5;241m.\u001b[39m_construct_result(res_values, name\u001b[38;5;241m=\u001b[39mres_name)\n",
      "File \u001b[1;32mC:\\ProgramData\\Anaconda3\\lib\\site-packages\\pandas\\core\\ops\\array_ops.py:391\u001b[0m, in \u001b[0;36mlogical_op\u001b[1;34m(left, right, op)\u001b[0m\n\u001b[0;32m    387\u001b[0m \u001b[38;5;66;03m# For int vs int `^`, `|`, `&` are bitwise operators and return\u001b[39;00m\n\u001b[0;32m    388\u001b[0m \u001b[38;5;66;03m#   integer dtypes.  Otherwise these are boolean ops\u001b[39;00m\n\u001b[0;32m    389\u001b[0m filler \u001b[38;5;241m=\u001b[39m fill_int \u001b[38;5;28;01mif\u001b[39;00m is_self_int_dtype \u001b[38;5;129;01mand\u001b[39;00m is_other_int_dtype \u001b[38;5;28;01melse\u001b[39;00m fill_bool\n\u001b[1;32m--> 391\u001b[0m res_values \u001b[38;5;241m=\u001b[39m \u001b[43mna_logical_op\u001b[49m\u001b[43m(\u001b[49m\u001b[43mlvalues\u001b[49m\u001b[43m,\u001b[49m\u001b[43m \u001b[49m\u001b[43mrvalues\u001b[49m\u001b[43m,\u001b[49m\u001b[43m \u001b[49m\u001b[43mop\u001b[49m\u001b[43m)\u001b[49m\n\u001b[0;32m    392\u001b[0m \u001b[38;5;66;03m# error: Cannot call function of unknown type\u001b[39;00m\n\u001b[0;32m    393\u001b[0m res_values \u001b[38;5;241m=\u001b[39m filler(res_values)  \u001b[38;5;66;03m# type: ignore[operator]\u001b[39;00m\n",
      "File \u001b[1;32mC:\\ProgramData\\Anaconda3\\lib\\site-packages\\pandas\\core\\ops\\array_ops.py:301\u001b[0m, in \u001b[0;36mna_logical_op\u001b[1;34m(x, y, op)\u001b[0m\n\u001b[0;32m    291\u001b[0m \u001b[38;5;28;01mdef\u001b[39;00m \u001b[38;5;21mna_logical_op\u001b[39m(x: np\u001b[38;5;241m.\u001b[39mndarray, y, op):\n\u001b[0;32m    292\u001b[0m     \u001b[38;5;28;01mtry\u001b[39;00m:\n\u001b[0;32m    293\u001b[0m         \u001b[38;5;66;03m# For exposition, write:\u001b[39;00m\n\u001b[0;32m    294\u001b[0m         \u001b[38;5;66;03m#  yarr = isinstance(y, np.ndarray)\u001b[39;00m\n\u001b[1;32m   (...)\u001b[0m\n\u001b[0;32m    299\u001b[0m         \u001b[38;5;66;03m# Then Cases where this goes through without raising include:\u001b[39;00m\n\u001b[0;32m    300\u001b[0m         \u001b[38;5;66;03m#  (xint or xbool) and (yint or bool)\u001b[39;00m\n\u001b[1;32m--> 301\u001b[0m         result \u001b[38;5;241m=\u001b[39m \u001b[43mop\u001b[49m\u001b[43m(\u001b[49m\u001b[43mx\u001b[49m\u001b[43m,\u001b[49m\u001b[43m \u001b[49m\u001b[43my\u001b[49m\u001b[43m)\u001b[49m\n\u001b[0;32m    302\u001b[0m     \u001b[38;5;28;01mexcept\u001b[39;00m \u001b[38;5;167;01mTypeError\u001b[39;00m:\n\u001b[0;32m    303\u001b[0m         \u001b[38;5;28;01mif\u001b[39;00m \u001b[38;5;28misinstance\u001b[39m(y, np\u001b[38;5;241m.\u001b[39mndarray):\n\u001b[0;32m    304\u001b[0m             \u001b[38;5;66;03m# bool-bool dtype operations should be OK, should not get here\u001b[39;00m\n",
      "\u001b[1;31mKeyboardInterrupt\u001b[0m: "
     ]
    }
   ],
   "source": [
    "# Load and process file in chunks\n",
    "total_missing_values_filled = 0\n",
    "\n",
    "for chunk in pd.read_csv('C:/Users/T00701453/Downloads/combined.csv', chunksize=chunk_size):\n",
    "    # Ensure Latitude and Longitude are floats\n",
    "    chunk['Latitude'] = chunk['Latitude'].astype(float)\n",
    "    chunk['Longitude'] = chunk['Longitude'].astype(float)\n",
    "\n",
    "    # List of feature columns to process for missing values\n",
    "    feature_columns = [col for col in chunk.columns if col not in ['Latitude', 'Longitude']]\n",
    "\n",
    "    # Replace missing values with averages or delete rows\n",
    "    processed_chunk, missing_filled = replace_missing_values_with_average_or_delete(chunk, feature_columns)\n",
    "\n",
    "    # Update overall counts\n",
    "    total_missing_values_filled += missing_filled\n",
    "\n",
    "    # Save the processed chunk\n",
    "    processed_chunk.to_csv(\"processed_combined26.csv\", mode='a', index=False, header=False)\n",
    "\n",
    "# Print final summary\n",
    "print(f\"Total missing values filled: {total_missing_values_filled}\")\n",
    "print(\"Rows with no valid neighbors were removed.\")"
   ]
  }
 ],
 "metadata": {
  "kernelspec": {
   "display_name": "Python 3 (ipykernel)",
   "language": "python",
   "name": "python3"
  },
  "language_info": {
   "codemirror_mode": {
    "name": "ipython",
    "version": 3
   },
   "file_extension": ".py",
   "mimetype": "text/x-python",
   "name": "python",
   "nbconvert_exporter": "python",
   "pygments_lexer": "ipython3",
   "version": "3.9.12"
  }
 },
 "nbformat": 4,
 "nbformat_minor": 5
}
